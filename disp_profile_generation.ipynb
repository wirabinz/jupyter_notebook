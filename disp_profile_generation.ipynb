{
 "cells": [
  {
   "cell_type": "code",
   "execution_count": 1,
   "id": "1a2079ef",
   "metadata": {},
   "outputs": [],
   "source": [
    "import matplotlib.pyplot as plt\n",
    "import pandas as pd\n",
    "import numpy as np\n"
   ]
  },
  {
   "cell_type": "markdown",
   "id": "c9a62e85",
   "metadata": {},
   "source": [
    "## Main dispProfile() Function Definition "
   ]
  },
  {
   "cell_type": "code",
   "execution_count": 2,
   "id": "d9de7529",
   "metadata": {},
   "outputs": [],
   "source": [
    "# Displacement Peak History Generation \n",
    "\n",
    "def dispProfile(test_data):\n",
    "    dispPeakHist =  test_data[:,0]\n",
    "    # displacement increment history generation \n",
    "    \n",
    "    incr = 0.1 \n",
    "    dispIncrHist = np.array([])\n",
    "    for i in range(0, dispPeakHist.shape[0]-1):\n",
    "        if(dispPeakHist[i+1]>dispPeakHist[i]):\n",
    "            incrModified =incr\n",
    "        else:\n",
    "            incrModified = - incr\n",
    "            \n",
    "        IncrHist = np.arange(dispPeakHist[i], dispPeakHist[i+1], incrModified)\n",
    "        dispIncrHist = np.append(dispIncrHist, IncrHist)\n",
    "        \n",
    "    return dispIncrHist\n",
    "\n"
   ]
  },
  {
   "cell_type": "code",
   "execution_count": null,
   "id": "bbe406d0",
   "metadata": {},
   "outputs": [],
   "source": []
  }
 ],
 "metadata": {
  "kernelspec": {
   "display_name": "Python 3",
   "language": "python",
   "name": "python3"
  },
  "language_info": {
   "codemirror_mode": {
    "name": "ipython",
    "version": 3
   },
   "file_extension": ".py",
   "mimetype": "text/x-python",
   "name": "python",
   "nbconvert_exporter": "python",
   "pygments_lexer": "ipython3",
   "version": "3.9.12"
  }
 },
 "nbformat": 4,
 "nbformat_minor": 5
}
