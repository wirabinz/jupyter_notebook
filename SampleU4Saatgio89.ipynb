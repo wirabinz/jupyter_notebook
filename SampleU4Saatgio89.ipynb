{
 "cells": [
  {
   "cell_type": "markdown",
   "id": "5dbf0384",
   "metadata": {},
   "source": [
    "# Perform Cyclic Pushover Analysis of an Experimentally Tested Reinforced Concrete Column \n",
    "<br></br>\n",
    "* **Description** - This project is designed to develop and validate a generalised finite model of an RC column with experimental data. \n",
    "<br></br>\n",
    "\n",
    "## Key Learnings\n",
    "1. In detail knowledge about creating the RC section using fiber section concept of OpenSeesPy and visualising the created section. \n",
    "2. How to download experimental data of columns testted under a variety of scenarios from PEER and use it in your projects. \n",
    "3. How to process the cyclic load displacement data and extract the displacement data for performing a displacement controlled simulation? \n",
    "4. In details knowledge about various stages involved in creating FE model and post processing hte load displacement result. \n",
    "<br></br>\n",
    "\n",
    "## Problem Description and Data\n",
    "  Link to experimental details : https://nisee.berkeley.edu/spd/servlet/display?format=html&id=106\n",
    "<br></br>\n",
    "\n",
    "  \n"
   ]
  },
  {
   "cell_type": "code",
   "execution_count": 28,
   "id": "0d27db2c",
   "metadata": {},
   "outputs": [],
   "source": [
    "# chek if openseespy is installed in the system\n",
    "\n",
    "#python -m pip install openseespy\n",
    "#python -m pip install opsvis\n",
    "#python -m pip show matplotlib\n",
    "#python -m pip show numpy\n",
    "#python -m pip install plotly\n",
    "#python -m pip install ipynb\n",
    "#python -m pip install pandas --user\n"
   ]
  },
  {
   "cell_type": "markdown",
   "id": "3800474a",
   "metadata": {},
   "source": [
    "### Import Necessary Modules\n"
   ]
  },
  {
   "cell_type": "code",
   "execution_count": 29,
   "id": "311a7d4a",
   "metadata": {},
   "outputs": [],
   "source": [
    "import openseespy.opensees as os\n",
    "import opsvis as osv\n",
    "import matplotlib.pyplot as plt\n",
    "import numpy as np\n",
    "import pandas as pd\n",
    "import plotly.graph_objects as pg\n",
    "#from ipynb.fs.defs.disp_profile_generation import dispProfile\n"
   ]
  },
  {
   "cell_type": "markdown",
   "id": "0ebee2ad",
   "metadata": {},
   "source": [
    "### Geometric and Material Details"
   ]
  },
  {
   "cell_type": "code",
   "execution_count": 30,
   "id": "6e04a2d5",
   "metadata": {},
   "outputs": [],
   "source": [
    "# === Unit Convention\n",
    "mm = 1\n",
    "N = 1\n",
    "Pa = 1\n",
    "\n",
    "m = 1000 * mm\n",
    "\n",
    "inches = 0.0254 * m\n",
    "ft = 12 * inches\n",
    "kip = 4.45 * 10**3 * N\n",
    "ksi = 6.89 * 10**6 * Pa\n",
    "\n",
    "kN = 1000 * N\n",
    "tonf = 9.80665 * kN\n",
    "\n",
    "MPa = 10**6 * Pa\n",
    "GPa = 10**9 * Pa\n",
    "\n",
    "nDim = 2 # number of Dimension \n",
    "nDof = 3 # number of dofs per node\n",
    "nEle = 5 # designated number of elements\n",
    "\n",
    "L = 1000*mm\n",
    "B = 0.35*m\n",
    "D = 0.35*m\n",
    "A = L*B\n",
    "E = 2.e5 * N/(mm**2)\n",
    "Iz = B*(D**3)/12*(mm**4)\n",
    "\n",
    "# === Load sign convention \n",
    "#  Vertical : +ve sign represents bottom to top \n",
    "#  Horizontal : +ve sign represents left to right \n",
    "\n",
    "VLoad = -600*kN \n",
    "HLoad = 1 # unit lateral reference load (also act as load factor)\n",
    "\n",
    "# === Mesh Data Generation \n",
    "numNodes = nEle + 1 \n",
    "nCoords = np.zeros([numNodes, nDim])  # 0-xcoord 1-ycoord\n",
    "eleTags = []\n",
    "nodeTags = []\n",
    "\n",
    "# Nodal Data Generation \n",
    "for i in range(0,numNodes):  # range from 0 to (numNodes-1)\n",
    "    nCoords[i,0]=0.0 # xcoord\n",
    "    nCoords[i,1]=i*(L/nEle) # ycoord\n",
    "    nodeTags.append(i+1)\n",
    "    \n",
    "# Element Data Generation \n",
    "for i in range(0,nEle):\n",
    "    eleTags.append(i+1)"
   ]
  },
  {
   "cell_type": "markdown",
   "id": "3c146cfc",
   "metadata": {},
   "source": [
    "## Preprocessing \n",
    "### OpenSees Model Generation \n",
    "### Node, Section, Material and Element Definitions"
   ]
  },
  {
   "cell_type": "code",
   "execution_count": 31,
   "id": "7bb6a84b",
   "metadata": {},
   "outputs": [],
   "source": [
    "# === General Model Setting \n",
    "os.wipe() # Cleans the existing database of nodes, materials, elements, recorders etc\n",
    "os.model('basic','-ndm',2,'-ndf',3)  # This is a 2D model with 2 translational and 1 rotational dofs pernode\n",
    "\n",
    "# Node Generation \n",
    "for i  in range(0,numNodes):\n",
    "    os.node(nodeTags[i],nCoords[i,0],nCoords[i,1])\n",
    "    \n",
    "# === Uniaxial material definition \n",
    "#     For uniaxial material the syntax is uniaxialMaterial\n",
    "\n",
    "Fy=438*mm\n",
    "b=0.01      #strain hardening coefficient of steel \n",
    "\n",
    "FpcUncon = -32*MPa            # Compressive strength of unconined concrete (-ve concrete)\n",
    "epsc0Uncon=-0.003             # Strain at maximum strength of unconfined concrete\n",
    "FpcUUncon = 0.25*FpcUncon     # Concrete crushing strength \n",
    "epsUUncon = -0.01            # concrete strain at crushing strength \n",
    "\n",
    "ConToUnconRatio = 1.3 \n",
    "\n",
    "FpcCon = FpcUncon*ConToUnconRatio     # Compressive strength of unconfined concrete (-ve compression)\n",
    "epsc0Con = epsc0Uncon*ConToUnconRatio # Strain at maximum strength of unconfined concrete \n",
    "FpcUCon = FpcUUncon*ConToUnconRatio   # Concrete crushing strength \n",
    "epsUCon =  epsUUncon*ConToUnconRatio # Concrete strain at crushing strength \n",
    "\n",
    "ConConTag = 1\n",
    "UnConConcTag = 2 \n",
    "SteelTag = 3\n",
    "\n",
    "# Concrete01 (https://openseespydoc.readthedocs.io/en/latest/src/Concrete01.html)\n",
    "# Steel01 (https://openseespydoc.readthedocs.io/en/latest/src/steel01.html)\n",
    "\n",
    "os.uniaxialMaterial('Concrete01', ConConTag, FpcUncon, epsc0Uncon, FpcUUncon, epsUUncon)\n",
    "os.uniaxialMaterial('Concrete01', UnConConcTag, FpcCon, epsc0Con, FpcUCon, epsUCon)\n",
    "os.uniaxialMaterial('Steel01',SteelTag,Fy,E,b)\n",
    "\n",
    "Cover = 40*mm      # In all directions\n",
    "B1 = B/2\n",
    "B1c = B1 - Cover\n",
    "D1 = D/2 \n",
    "D1c = D1 - Cover\n",
    "\n",
    "LongBarDia = 25*mm\n",
    "LongBarArea = (np.pi)*(LongBarDia**2)/4\n",
    "\n",
    "# === Quadrilateral Patch (https://opensees.berkeley.edu/wiki/index.php/Patch_Command)\n",
    "# Straight Layer (https://opensees.berkeley.edu/OpenSees/manuals/usermanual/223.htm)\n",
    "\n",
    "secTag = 1 # Fiber section tag\n",
    "fibSec_1 = [['section', 'Fiber',secTag, '-GJ', 0.0],\n",
    "            ['patch', 'quad', ConConTag, 4,4,*[-D1c,B1c],*[-D1c,-B1c],*[D1c,-B1c],*[D1c,B1c]],\n",
    "            ['patch', 'quad', UnConConcTag, 2,4,*[-D1c,-B1c],*[-D1c,-B1],*[D1c,-B1],*[D1c,-B1c]],\n",
    "            ['patch', 'quad', UnConConcTag, 2,4,*[-D1c,B1],*[-D1c,B1c],*[B1c,D1c],*[D1c,B1]],\n",
    "            ['patch', 'quad', UnConConcTag, 6,2,*[D1c,B1],*[D1c,-B1],*[D1,-B1],*[D1,B1]],\n",
    "            ['patch', 'quad', UnConConcTag, 6,2,*[-D1,B1],*[-D1,-B1],*[-D1c,-B1],*[-D1c,B1]],\n",
    "            \n",
    "            ['layer','straight',SteelTag, 3, LongBarArea,*[-D1c,B1c],*[D1c,B1c]],\n",
    "            ['layer','straight',SteelTag, 2, LongBarArea,*[-D1c,0],*[D1c,0]],\n",
    "            ['layer','straight',SteelTag, 3, LongBarArea,*[-D1c,-B1c],*[D1c,-B1c]],\n",
    "           ]\n",
    "osv.fib_sec_list_to_cmds(fibSec_1)  # this command converts the opsvis list to openseespy section object\n",
    "\n",
    "# === Coordinate transformation (from local to global)\n",
    "\n",
    "geomTransfTag = 1 \n",
    "os.geomTransf('Linear',geomTransfTag)\n",
    "\n",
    "# === Integration Scheme Definition \n",
    "intSchemeTag =1 \n",
    "numIntPts = 5\n",
    "os.beamIntegration('Lobatto',intSchemeTag, secTag, numIntPts)\n",
    "\n",
    "# === Element Generation (syntax - element (eleType, eleTag, *eleNodes, *eleArgs))\n",
    "# *eleArgs - are elements arguments specific to an element \n",
    "\n",
    "for i in range(0, nEle):\n",
    "    os.element('dispBeamColumn', eleTags[i], nodeTags[i],nodeTags[i+1],geomTransfTag, intSchemeTag)\n"
   ]
  },
  {
   "cell_type": "markdown",
   "id": "627a3cc6",
   "metadata": {},
   "source": [
    "### Fiber Section Plotting "
   ]
  },
  {
   "cell_type": "code",
   "execution_count": 32,
   "id": "875dbed0",
   "metadata": {
    "scrolled": true
   },
   "outputs": [
    {
     "data": {
      "text/plain": [
       "(192.5, -192.5, -192.5, 192.5)"
      ]
     },
     "execution_count": 32,
     "metadata": {},
     "output_type": "execute_result"
    },
    {
     "data": {
      "image/png": "[encoded data removed]",
      "text/plain": [
       "<Figure size 432x288 with 1 Axes>"
      ]
     },
     "metadata": {
      "needs_background": "light"
     },
     "output_type": "display_data"
    }
   ],
   "source": [
    "osv.plot_fiber_section(fibSec_1)\n",
    "plt.axis('equal')"
   ]
  },
  {
   "cell_type": "markdown",
   "id": "fd12a25f",
   "metadata": {},
   "source": [
    "### Boundary Conditions"
   ]
  },
  {
   "cell_type": "code",
   "execution_count": 33,
   "id": "5892f272",
   "metadata": {},
   "outputs": [],
   "source": [
    "# === Boundary Conditions at the dof of each node (syntax - fix(nodeTag, * constrValues))\n",
    "#   0  -  free and 1 - constrained\n",
    "\n",
    "xRes =1 \n",
    "yRes = 1 \n",
    "RzRes = 1\n",
    "os.fix(nodeTags[0], xRes, yRes, RzRes) # Fixed support at node 1 (i.e. two displacements (Dx and Dy) and one rotation (Rz))"
   ]
  },
  {
   "cell_type": "markdown",
   "id": "3e9b3266",
   "metadata": {},
   "source": [
    "### Recorder"
   ]
  },
  {
   "cell_type": "code",
   "execution_count": 34,
   "id": "a534ad84",
   "metadata": {},
   "outputs": [
    {
     "data": {
      "text/plain": [
       "7"
      ]
     },
     "execution_count": 34,
     "metadata": {},
     "output_type": "execute_result"
    }
   ],
   "source": [
    "# === Recorder Definition \n",
    "#     Recorder object is a mechanism to store the response (such as node displacements, node reaction, element section forces etc)\n",
    "#     Recorder records the requested response quantity at each converged step\n",
    "#     Lets record, the node displacement at top top free node and rection at the bottom node\n",
    "\n",
    "os.recorder('Node', '-file', 'ReacDOF_c1.out','-node', nodeTags[0],'-dof',1,'reaction')\n",
    "os.recorder('Node', '-file', 'DispDOF_c1.out','-node', nodeTags[-1],'-dof',1,'reaction')"
   ]
  },
  {
   "cell_type": "markdown",
   "id": "9911b0e5",
   "metadata": {},
   "source": [
    "### FE Model Visualization (Undeformed)"
   ]
  },
  {
   "cell_type": "code",
   "execution_count": 35,
   "id": "9c50f79b",
   "metadata": {},
   "outputs": [
    {
     "data": {
      "text/plain": [
       "Text(0.5, 1.0, 'Undeformed Model')"
      ]
     },
     "execution_count": 35,
     "metadata": {},
     "output_type": "execute_result"
    },
    {
     "data": {
      "image/png": "[encoded data removed]",
      "text/plain": [
       "<Figure size 432x288 with 1 Axes>"
      ]
     },
     "metadata": {
      "needs_background": "light"
     },
     "output_type": "display_data"
    }
   ],
   "source": [
    "osv.plot_model()\n",
    "plt.xlabel('Length')\n",
    "plt.ylabel('Length')\n",
    "plt.title('Undeformed Model')"
   ]
  },
  {
   "cell_type": "markdown",
   "id": "b1b58d05",
   "metadata": {},
   "source": [
    "## Analysis Setting and Incremental Analysis \n",
    "\n",
    "### Gravity Load"
   ]
  },
  {
   "cell_type": "code",
   "execution_count": 36,
   "id": "cdd48e03",
   "metadata": {},
   "outputs": [
    {
     "name": "stdout",
     "output_type": "stream",
     "text": [
      "Gravity analysis successful\n"
     ]
    }
   ],
   "source": [
    "tsTag = 1 \n",
    "patternTags = [1,2]     # 1 - for gravity load and 2 - for lateral load \n",
    "os.timeSeries(\"Linear\", tsTag)  # linear time series\n",
    "os.pattern(\"Plain\", patternTags[0], tsTag)  # plain pattern \n",
    "os.load(nodeTags[-1],0.0,VLoad,0.0) # load definition \n",
    "\n",
    "os.constraints(\"Plain\")    # Constrain handler, this handles how the constraints are enforced a dof \n",
    "os.numberer(\"RCM\")         # Scheme to define thenumbering for degree of freedom. This command also set mappings between equation numbers and degree of freedom \n",
    "os.system('BandGeneral')   # Defines the system of equations \n",
    "os.test('NormDispIncr',1.0e-5,10)   # Convergence criteria at each iteration \n",
    "                                    # 10 is the maximum number of iterations to check before returning failure status \\\\\n",
    "os.algorithm('Newton')     # Newton : this updates tanget stiffness at every iteration \n",
    "\n",
    "# === Integrator object formulates the Ax=B depending on the kinde of integrator specified \n",
    "#     Load control - Applies load in B vector \n",
    "#     Displacement control - applies displacement in x vector and reanrranges the system of equation Ax=B\n",
    "#     And etc - depending on the kind of integrator sceheme, the system of equation (Ax=B) will be rearranged \n",
    "#     Also, the integrator object is responsible for applying the correct dt in (t+dt)\n",
    "\n",
    "numSteps = 10 \n",
    "dt = 1/numStep    \n",
    "os.integrator ('LoadControl',dt)   # 0.1 is the load increment - this applies gravity in 10- steps\n",
    "\n",
    "os.analysis('Static')      # define type of analysis static or transient \n",
    "gravityAnalysisStatus = os.analyze(numSteps)    # Runs one analysis step\n",
    "                                                # Returns 0 if analysis is successful and < 0 if analysis is failed \n",
    "    \n",
    "\n",
    "if (gravityAnalysisStatus == 0):\n",
    "    print('Gravity analysis successful')\n",
    "else:\n",
    "    print('Gravity analysis failed!')"
   ]
  },
  {
   "cell_type": "markdown",
   "id": "4c1bc52f",
   "metadata": {},
   "source": [
    "### Cyclic Lateral Load (Displacement Control)\n",
    "1. The analysis under lateral loads is the so-called pushover analyis\n",
    "2. This case uses displacement control integrator to perform pushover analysis \n",
    "3. The lateral load application wil start after completing the gravity load application ends. \n",
    "4. The load and response state at hte end of gravity analysis must be reatined in the lateral load analysis also, to achieve this we use a specia command called loadConst \n"
   ]
  },
  {
   "cell_type": "code",
   "execution_count": 38,
   "id": "fa5cb0b9",
   "metadata": {},
   "outputs": [],
   "source": [
    "os.loadConst('-time',0.0)"
   ]
  },
  {
   "cell_type": "code",
   "execution_count": null,
   "id": "bd41cf97",
   "metadata": {},
   "outputs": [],
   "source": [
    "os.pattern(\"Plain\", patternTags[1], tsTag)    # Plain pattern \n",
    "os.load(nodeTags[-1], HLoad, 0.0, 0.0) # Load definition \n",
    "\n",
    "os.wipeAnalysis()                 # Only deletes the previously defined analysis object in the model \n",
    "os.constraints(\"Plain\")           # Constrain handler, this handles how the constraints are enforced at a dof \n",
    "os.numberer(\"RCM\")                # Scheme to define the numbering for degree of freedoms. This command also sets mapping between equatin numbers and degree of freedom \n",
    "os.system('BandGeneral')   # Defines the system of equations \n",
    "os.test('NormDispIncr',1.0e-5,10)   # Convergence criteria at each iteration \n",
    "                                    # 10 is the maximum number of iterations to check before returning failure status \\\\\n",
    "os.algorithm('Newton')     # Newton : this updates tanget stiffness at every iteration \n",
    "\n",
    "# === Integrator object formulates the Ax=B depending on the kinde of integrator specified \n",
    "#     Load control - Applies load in B vector \n",
    "#     Displacement control - applies displacement in x vector and reanrranges the system of equation Ax=B\n",
    "#     And etc - depending on the kind of integrator sceheme, the system of equation (Ax=B) will be rearranged \n",
    "#     Also, the integrator object is responsible for applying the correct dt in (t+dt)\n",
    "\n"
   ]
  }
 ],
 "metadata": {
  "kernelspec": {
   "display_name": "Python 3",
   "language": "python",
   "name": "python3"
  },
  "language_info": {
   "codemirror_mode": {
    "name": "ipython",
    "version": 3
   },
   "file_extension": ".py",
   "mimetype": "text/x-python",
   "name": "python",
   "nbconvert_exporter": "python",
   "pygments_lexer": "ipython3",
   "version": "3.9.12"
  }
 },
 "nbformat": 4,
 "nbformat_minor": 5
}
