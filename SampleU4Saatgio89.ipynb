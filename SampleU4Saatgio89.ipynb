{
 "cells": [
  {
   "cell_type": "markdown",
   "id": "5dbf0384",
   "metadata": {},
   "source": [
    "# Perform Cyclic Pushover Analysis of an Experimentally Tested Reinforced Concrete Column \n",
    "<br></br>\n",
    "* **Description** - This project is designed to develop and validate a generalised finite model of an RC column with experimental data. \n",
    "<br></br>\n",
    "\n",
    "## Key Learnings\n",
    "1. In detail knowledge about creating the RC section using fiber section concept of OpenSeesPy and visualising the created section. \n",
    "2. How to download experimental data of columns testted under a variety of scenarios from PEER and use it in your projects. \n",
    "3. How to process the cyclic load displacement data and extract the displacement data for performing a displacement controlled simulation? \n",
    "4. In details knowledge about various stages involved in creating FE model and post processing hte load displacement result. \n",
    "<br></br>\n",
    "\n",
    "## Problem Description and Data\n",
    "  Link to experimental details : https://nisee.berkeley.edu/spd/servlet/display?format=html&id=106\n"
   ]
  },
  {
   "cell_type": "code",
   "execution_count": 4,
   "id": "0d27db2c",
   "metadata": {},
   "outputs": [],
   "source": [
    "# chek if openseespy is installed in the system\n",
    "\n",
    "#python -m pip install openseespy\n",
    "#python -m pip install opsvis\n",
    "#python -m pip show matplotlib\n",
    "#python -m pip show numpy\n",
    "#python -m pip install plotly\n",
    "#python -m pip install ipynb\n",
    "#python -m pip install pandas --user\n"
   ]
  },
  {
   "cell_type": "markdown",
   "id": "3800474a",
   "metadata": {},
   "source": [
    "### Import Necessary Modules\n"
   ]
  },
  {
   "cell_type": "code",
   "execution_count": 2,
   "id": "311a7d4a",
   "metadata": {},
   "outputs": [],
   "source": [
    "import openseespy.opensees as os\n",
    "import opsvis as osv\n",
    "import matplotlib.pyplot as plt\n",
    "import numpy as np\n",
    "import pandas as pd\n",
    "import plotly.graph_objects as pg\n",
    "#from ipynb.fs.defs.disp_profile_generation import dispProfile\n"
   ]
  },
  {
   "cell_type": "markdown",
   "id": "0ebee2ad",
   "metadata": {},
   "source": [
    "### Geometric and Material Details"
   ]
  },
  {
   "cell_type": "code",
   "execution_count": 15,
   "id": "6e04a2d5",
   "metadata": {},
   "outputs": [],
   "source": [
    "# === Unit Convention\n",
    "mm = 1\n",
    "N = 1\n",
    "Pa = 1\n",
    "\n",
    "m = 1000 * mm\n",
    "\n",
    "inches = 0.0254 * m\n",
    "ft = 12 * inches\n",
    "kip = 4.45 * 10**3 * N\n",
    "ksi = 6.89 * 10**6 * Pa\n",
    "\n",
    "kN = 1000 * N\n",
    "tonf = 9.80665 * kN\n",
    "\n",
    "MPa = 10**6 * Pa\n",
    "GPa = 10**9 * Pa\n",
    "\n",
    "nDim = 2 # number of Dimension \n",
    "nDof = 3 # number of dofs per node\n",
    "nEle = 5 # designated number of elements\n",
    "\n",
    "L = 1000*mm\n",
    "B = 0.35*m\n",
    "D = 0.35*m\n",
    "A = L*B\n",
    "E = 2.e5 * N/(mm**2)\n",
    "Iz = B*(D**3)/12*(mm**4)\n",
    "\n",
    "# === Load sign convention \n",
    "#  Vertical : +ve sign represents bottom to top \n",
    "#  Horizontal : +ve sign represents left to right \n",
    "\n",
    "VLoad = -600*kN \n",
    "HLoad = 1 # unit lateral reference load (also act as load factor)\n",
    "\n",
    "# === Mesh Data Generation \n",
    "numNodes = nEle + 1 \n",
    "nCoords = np.zeros([numNodes, nDim])  # 0-xcoord 1-ycoord\n",
    "eleTags = []\n",
    "nodeTags = []\n",
    "\n",
    "# Nodal Data Generation \n",
    "for i in range(0,numNodes):  # range from 0 to (numNodes-1)\n",
    "    nCoords[i,0]=0.0 # xcoord\n",
    "    nCoords[i,1]=i*(L/nEle) # ycoord\n",
    "    nodeTags.append(i+1)\n",
    "    \n",
    "# Element Data GTeneration \n",
    "for i in range(0,nEle):\n",
    "    eleTags.append(i+1)"
   ]
  },
  {
   "cell_type": "markdown",
   "id": "3c146cfc",
   "metadata": {},
   "source": [
    "## Preprocessing \n",
    "### OpenSees Model Generation \n",
    "### Node, Section, Material and Element Definitions"
   ]
  },
  {
   "cell_type": "code",
   "execution_count": null,
   "id": "7bb6a84b",
   "metadata": {},
   "outputs": [],
   "source": []
  }
 ],
 "metadata": {
  "kernelspec": {
   "display_name": "Python 3",
   "language": "python",
   "name": "python3"
  },
  "language_info": {
   "codemirror_mode": {
    "name": "ipython",
    "version": 3
   },
   "file_extension": ".py",
   "mimetype": "text/x-python",
   "name": "python",
   "nbconvert_exporter": "python",
   "pygments_lexer": "ipython3",
   "version": "3.9.12"
  }
 },
 "nbformat": 4,
 "nbformat_minor": 5
}
